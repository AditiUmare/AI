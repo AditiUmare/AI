{
 "cells": [
  {
   "cell_type": "code",
   "execution_count": 2,
   "id": "f7687853",
   "metadata": {},
   "outputs": [
    {
     "name": "stdout",
     "output_type": "stream",
     "text": [
      "[5, 7, 9, 10, 13, 20]\n",
      "[('A', 'B', 2), ('B', 'C', 1), ('B', 'D', 1)]\n"
     ]
    }
   ],
   "source": [
    "def selection_sort(arr):\n",
    "    for i in range(len(arr)):\n",
    "        min_index = i\n",
    "        for j in range(i+1, len(arr)):\n",
    "            if arr[j] < arr[min_index]:\n",
    "                min_index = j\n",
    "        arr[i], arr[min_index] = arr[min_index], arr[i]\n",
    "    print(arr)\n",
    "\n",
    "\n",
    "a1 = [20, 10, 5, 7, 9, 13]\n",
    "\n",
    "\n",
    "\n",
    "selection_sort(a1)\n",
    "\n",
    "import heapq\n",
    "def prim(graph, start):\n",
    "    mst = []\n",
    "    visited = set([start])\n",
    "    edges = [(cost, start, to) for to, cost in graph[start].items()]\n",
    "    heapq.heapify(edges)\n",
    "\n",
    "    while edges:\n",
    "\n",
    "        cost, frm, to = heapq.heappop(edges)\n",
    "        if to not in visited:\n",
    "            visited.add(to)\n",
    "            mst.append((frm, to, cost))\n",
    "\n",
    "            for to_next, cost2 in graph[to].items():\n",
    "                if to_next not in visited:\n",
    "                    heapq.heappush(edges, (cost2, to, to_next))\n",
    "\n",
    "    return mst\n",
    "\n",
    "\n",
    "graph = {\n",
    "    'A': {'B': 2, 'C': 3},\n",
    "    'B': {'A': 2, 'C': 1, 'D': 1},\n",
    "    'C': {'A': 3, 'B': 1, 'D': 4},\n",
    "    'D': {'B': 1, 'C': 4},\n",
    "}\n",
    "print(prim(graph, 'A'))"
   ]
  },
  {
   "cell_type": "code",
   "execution_count": null,
   "id": "f2583278",
   "metadata": {},
   "outputs": [],
   "source": []
  }
 ],
 "metadata": {
  "kernelspec": {
   "display_name": "Python 3 (ipykernel)",
   "language": "python",
   "name": "python3"
  },
  "language_info": {
   "codemirror_mode": {
    "name": "ipython",
    "version": 3
   },
   "file_extension": ".py",
   "mimetype": "text/x-python",
   "name": "python",
   "nbconvert_exporter": "python",
   "pygments_lexer": "ipython3",
   "version": "3.10.9"
  }
 },
 "nbformat": 4,
 "nbformat_minor": 5
}
